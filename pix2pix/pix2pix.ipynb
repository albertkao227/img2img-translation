{
 "cells": [
  {
   "cell_type": "markdown",
   "id": "fe71e2aa",
   "metadata": {},
   "source": [
    "# Pix2Pix Overview "
   ]
  },
  {
   "cell_type": "markdown",
   "id": "dc0ea0e0",
   "metadata": {},
   "source": [
    "## 1. Generator: U-Net \n",
    "\n",
    "UNet architechtures are widely used in semantic segmentation tasks. "
   ]
  },
  {
   "cell_type": "markdown",
   "id": "96533e4f",
   "metadata": {},
   "source": [
    "### Pixel Distance Loss\n",
    "\n",
    "The Pixel Distance Loss is a regularization term added to the GAN generator BCE loss function. The regularization term calculates the difference between the fake image and the target real image. With the addition of Pixel Distance, we encourage the output image look more similar to the target real image.    "
   ]
  },
  {
   "cell_type": "markdown",
   "id": "57f387da",
   "metadata": {},
   "source": [
    "## 2. Discriminator: PatchGAN \n",
    "\n",
    "Pix2Pix discriminator is a technique called PatchGAN. PatchGAN outputs a matrix of classifications intead of a single output. Each value in the classification matrix are between 0 and 1, with 0 representing fake and 1 real. With a predicted probability for each patch, it helps give localized feedback on the realness of each patch. "
   ]
  },
  {
   "cell_type": "code",
   "execution_count": null,
   "id": "7c018916",
   "metadata": {},
   "outputs": [],
   "source": []
  }
 ],
 "metadata": {
  "kernelspec": {
   "display_name": "Python 3 (ipykernel)",
   "language": "python",
   "name": "python3"
  },
  "language_info": {
   "codemirror_mode": {
    "name": "ipython",
    "version": 3
   },
   "file_extension": ".py",
   "mimetype": "text/x-python",
   "name": "python",
   "nbconvert_exporter": "python",
   "pygments_lexer": "ipython3",
   "version": "3.10.11"
  }
 },
 "nbformat": 4,
 "nbformat_minor": 5
}
