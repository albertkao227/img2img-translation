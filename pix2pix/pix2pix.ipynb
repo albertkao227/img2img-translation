{
 "cells": [
  {
   "cell_type": "markdown",
   "id": "b885c8c1",
   "metadata": {},
   "source": [
    "# Pix2Pix Overview "
   ]
  },
  {
   "cell_type": "markdown",
   "id": "e853a63a",
   "metadata": {},
   "source": [
    "## 1. Generator: U-Net \n",
    "\n",
    "UNet architechtures are widely used in semantic segmentation tasks. "
   ]
  },
  {
   "cell_type": "markdown",
   "id": "07c9a397",
   "metadata": {},
   "source": [
    "### Pixel Distance Loss\n",
    "\n",
    "The Pixel Distance Loss is a regularization term added to the GAN generator BCE loss function. The regularization term calculates the difference between the fake image and the target real image. With the addition of Pixel Distance, we encourage the output image look more similar to the target real image.    "
   ]
  },
  {
   "cell_type": "markdown",
   "id": "f4213ccd",
   "metadata": {},
   "source": [
    "## 2. Discriminator: PatchGAN \n",
    "\n",
    "Pix2Pix discriminator is a technique called PatchGAN. PatchGAN outputs a matrix of classifications intead of a single output. Each value in the classification matrix are between 0 and 1, with 0 representing fake and 1 real. With a predicted probability for each patch, it helps give localized feedback on the realness of each patch. "
   ]
  },
  {
   "cell_type": "code",
   "execution_count": null,
   "id": "e5224fac",
   "metadata": {},
   "outputs": [],
   "source": []
  }
 ],
 "metadata": {
  "kernelspec": {
   "display_name": "Python 3 (ipykernel)",
   "language": "python",
   "name": "python3"
  },
  "language_info": {
   "codemirror_mode": {
    "name": "ipython",
    "version": 3
   },
   "file_extension": ".py",
   "mimetype": "text/x-python",
   "name": "python",
   "nbconvert_exporter": "python",
   "pygments_lexer": "ipython3",
   "version": "3.10.11"
  }
 },
 "nbformat": 4,
 "nbformat_minor": 5
}
